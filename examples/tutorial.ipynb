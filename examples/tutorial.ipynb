     "iopub.execute_input": "2025-09-17T12:14:50.894702Z",
     "iopub.status.busy": "2025-09-17T12:14:50.894387Z",
     "iopub.status.idle": "2025-09-17T12:14:52.934733Z",
     "shell.execute_reply": "2025-09-17T12:14:52.933676Z"
     "iopub.execute_input": "2025-09-17T12:14:52.937972Z",
     "iopub.status.busy": "2025-09-17T12:14:52.937558Z",
     "iopub.status.idle": "2025-09-17T12:14:53.235158Z",
     "shell.execute_reply": "2025-09-17T12:14:53.234304Z"
     "iopub.execute_input": "2025-09-17T12:14:53.238228Z",
     "iopub.status.busy": "2025-09-17T12:14:53.237932Z",
     "iopub.status.idle": "2025-09-17T12:14:53.251403Z",
     "shell.execute_reply": "2025-09-17T12:14:53.250617Z"
     "iopub.execute_input": "2025-09-17T12:14:53.254420Z",
     "iopub.status.busy": "2025-09-17T12:14:53.254165Z",
     "iopub.status.idle": "2025-09-17T12:14:53.589899Z",
     "shell.execute_reply": "2025-09-17T12:14:53.589043Z"
    {
     "name": "stdout",
     "output_type": "stream",
     "text": [
      "[Replay] accept=0.5280, cltv=720.6107\n",
      "[IPS] ESS_accept=458.3, clip=0.60%; ESS_cltv=458.3, clip=0.60%\n",
      "[SNIPS] ESS_accept=458.3, clip=0.60%; ESS_cltv=458.3, clip=0.60%\n",
      "[DM] accept=0.4928, cltv=681.6563\n",
      "[SNDR] ESS_accept=458.3, clip=0.60%; ESS_cltv=458.3, clip=0.60%\n"
     ]
    },
     "name": "stderr",
      "[DR] Комбинируем DM и IPS-поправку\n"
     "name": "stdout",
      "[Switch-DR] ESS_accept=823.3, no_ips=0.60%; ESS_cltv=823.3, no_ips=0.60%\n"
    "Используем кластерный бутстрэп по пользователям, чтобы получить 95% доверительные интервалы для разности ценностей (ATE).\n",
    "\n",
    "> Начиная с обновления 2025 года бутстрэп вызывает оценщики в \"тихом\" режиме: логгер временно отключается на время выборок, поэтому вывод не забивается сотнями повторяющихся сообщений."
     "iopub.execute_input": "2025-09-17T12:14:53.592925Z",
     "iopub.status.busy": "2025-09-17T12:14:53.592604Z",
     "iopub.status.idle": "2025-09-17T12:15:34.128663Z",
     "shell.execute_reply": "2025-09-17T12:15:34.127860Z"
      "[DR] ESS = 835.1 из 2000\n"
      "[DR] Обрезано весов: 0.50%\n"
      "[DR] Оценённое значение метрики: 687.2703\n"
      "[DR] ESS = 458.3 из 2000\n"
      "[DR] Обрезано весов: 0.60%\n"
      "[DR] Оценённое значение метрики: 676.1356\n"
     "iopub.execute_input": "2025-09-17T12:15:34.155298Z",
     "iopub.status.busy": "2025-09-17T12:15:34.131347Z",
     "iopub.status.idle": "2025-09-17T12:17:08.534399Z",
     "shell.execute_reply": "2025-09-17T12:17:08.533417Z"
     "iopub.execute_input": "2025-09-17T12:17:08.537786Z",
     "iopub.status.busy": "2025-09-17T12:17:08.537444Z",
     "iopub.status.idle": "2025-09-17T12:17:08.598208Z",
     "shell.execute_reply": "2025-09-17T12:17:08.597189Z"
