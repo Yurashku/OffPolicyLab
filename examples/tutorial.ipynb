     "iopub.execute_input": "2025-09-17T13:36:50.228306Z",
     "iopub.status.busy": "2025-09-17T13:36:50.227991Z",
     "iopub.status.idle": "2025-09-17T13:36:52.165015Z",
     "shell.execute_reply": "2025-09-17T13:36:52.163938Z"
     "iopub.execute_input": "2025-09-17T13:36:52.169007Z",
     "iopub.status.busy": "2025-09-17T13:36:52.168576Z",
     "iopub.status.idle": "2025-09-17T13:36:52.506868Z",
     "shell.execute_reply": "2025-09-17T13:36:52.505285Z"
     "iopub.execute_input": "2025-09-17T13:36:52.512350Z",
     "iopub.status.busy": "2025-09-17T13:36:52.511933Z",
     "iopub.status.idle": "2025-09-17T13:36:52.529853Z",
     "shell.execute_reply": "2025-09-17T13:36:52.528720Z"
    "_Функции `train_pi_hat` и `train_mu_hat` автоматически нормализуют поля `age`, `risk` и `income`, поэтому подготовка данных не требует ручного масштабирования._\n",
    "\n",
    "По умолчанию оценщики не печатают сообщения; в примере ниже мы включим подробный вывод, передав `log=True`."
     "iopub.execute_input": "2025-09-17T13:36:52.534299Z",
     "iopub.status.busy": "2025-09-17T13:36:52.533964Z",
     "iopub.status.idle": "2025-09-17T13:36:52.935406Z",
     "shell.execute_reply": "2025-09-17T13:36:52.934361Z"
    {
     "name": "stdout",
     "output_type": "stream",
     "text": [
      "[Replay] accept=0.5280, cltv=720.6107\n",
      "[IPS] ESS_accept=458.3, clip=0.60%; ESS_cltv=458.3, clip=0.60%\n",
      "[SNIPS] ESS_accept=458.3, clip=0.60%; ESS_cltv=458.3, clip=0.60%\n",
      "[DM] accept=0.4928, cltv=681.6563\n"
     ]
    },
    {
     "name": "stdout",
     "output_type": "stream",
     "text": [
      "[SNDR] ESS_accept=458.3, clip=0.60%; ESS_cltv=458.3, clip=0.60%\n",
      "[Switch-DR] ESS_accept=823.3, no_ips=0.60%; ESS_cltv=823.3, no_ips=0.60%\n"
     ]
    },
    "replay_acc = replay_value(logsA, aB, 'accept', log=True)\n",
    "replay_cltv = replay_value(logsA, aB, 'cltv', log=True)\n",
    "res_ip_accept, ess_ip_a, clip_ip_a = ips_value(logsA, piB_taken, pA_taken, 'accept', weight_clip=20, log=True)\n",
    "res_ip_cltv, ess_ip_c, clip_ip_c = ips_value(logsA, piB_taken, pA_taken, 'cltv', weight_clip=20, log=True)\n",
    "res_sn_accept, ess_sn_a, clip_sn_a = snips_value(logsA, piB_taken, pA_taken, 'accept', weight_clip=20, log=True)\n",
    "res_sn_cltv, ess_sn_c, clip_sn_c = snips_value(logsA, piB_taken, pA_taken, 'cltv', weight_clip=20, log=True)\n",
    "dm_acc = dm_value(logsA, policyB, mu_accept, 'accept', log=True)\n",
    "dm_cltv = dm_value(logsA, policyB, mu_cltv, 'cltv', log=True)\n",
    "res_sndr_accept, ess_sndr_a, clip_sndr_a = sndr_value(logsA, policyB, mu_accept, pA_taken, 'accept', weight_clip=20, log=True)\n",
    "res_sndr_cltv, ess_sndr_c, clip_sndr_c = sndr_value(logsA, policyB, mu_cltv, pA_taken, 'cltv', weight_clip=20, log=True)\n",
    "res_sw_accept, ess_sw_a, share_sw_a = switch_dr_value(logsA, policyB, mu_accept, pA_taken, tau=20, target='accept', log=True)\n",
    "res_sw_cltv, ess_sw_c, share_sw_c = switch_dr_value(logsA, policyB, mu_cltv, pA_taken, tau=20, target='cltv', log=True)\n",
    "res_dr_accept, ess_dr_a, clip_dr_a = dr_value(logsA, policyB, mu_accept, pA_taken, 'accept', weight_clip=20, log=True)\n",
    "res_dr_cltv, ess_dr_c, clip_dr_c = dr_value(logsA, policyB, mu_cltv, pA_taken, 'cltv', weight_clip=20, log=True)\n",
    "res_dr_A_accept, _, _ = dr_value(logsA, policyA, mu_accept, pA_taken, 'accept', weight_clip=20, log=True)\n",
    "res_dr_A_cltv, _, _ = dr_value(logsA, policyA, mu_cltv, pA_taken, 'cltv', weight_clip=20, log=True)\n",
     "iopub.execute_input": "2025-09-17T13:36:52.939240Z",
     "iopub.status.busy": "2025-09-17T13:36:52.938827Z",
     "iopub.status.idle": "2025-09-17T13:37:43.283677Z",
     "shell.execute_reply": "2025-09-17T13:37:43.282990Z"
    }
   },
   "outputs": [
    {
     "data": {
      "text/plain": [
       "({'V_A': 0.5233095404613587,\n",
       "  'V_A_CI': (0.4864590460685101, 0.5547436374225403),\n",
       "  'V_B': 0.5082788300703585,\n",
       "  'V_B_CI': (0.4763451170613972, 0.5378790011611967),\n",
       "  'Delta': -0.015030710391000235,\n",
       "  'Delta_CI': (-0.04564023927184906, 0.018343607811386158),\n",
       "  'n_boot': 300},\n",
       " {'V_A': 687.2703111558754,\n",
       "  'V_A_CI': (669.6890794941799, 705.6311781041877),\n",
       "  'V_B': 676.1355967680565,\n",
       "  'V_B_CI': (660.9344367229127, 690.3560962733751),\n",
       "  'Delta': -11.134714387818917,\n",
       "  'Delta_CI': (-24.98139012492344, 1.3748607540062017),\n",
       "  'n_boot': 300})"
      ]
     },
     "execution_count": 5,
     "metadata": {},
     "output_type": "execute_result"
    }
   ],
   "source": [
    "def estimator_pair_accept(df):\n",
    "    mu = train_mu_hat(df, 'accept')\n",
    "    pi_model = train_pi_hat(df)\n",
    "    pA = pi_hat_predict(pi_model, df)\n",
    "    pA_taken = pA[np.arange(len(df)), df['a_A'].values]\n",
    "    vA, _, _ = dr_value(df, policyA, mu, pA_taken, 'accept', weight_clip=20)\n",
    "    vB, _, _ = dr_value(df, policyB, mu, pA_taken, 'accept', weight_clip=20)\n",
    "    return vA, vB, vB - vA\n",
    "\n",
    "\n",
    "def estimator_pair_cltv(df):\n",
    "    mu = train_mu_hat(df, 'cltv')\n",
    "    pi_model = train_pi_hat(df)\n",
    "    pA = pi_hat_predict(pi_model, df)\n",
    "    pA_taken = pA[np.arange(len(df)), df['a_A'].values]\n",
    "    vA, _, _ = dr_value(df, policyA, mu, pA_taken, 'cltv', weight_clip=20)\n",
    "    vB, _, _ = dr_value(df, policyB, mu, pA_taken, 'cltv', weight_clip=20)\n",
    "    return vA, vB, vB - vA\n",
    "\n",
    "ci_accept = paired_bootstrap_ci(logsA, estimator_pair_accept)\n",
    "ci_cltv = paired_bootstrap_ci(logsA, estimator_pair_cltv)\n",
    "ci_accept, ci_cltv"
   ]
  },
  {
   "cell_type": "markdown",
   "id": "dcaddb3d",
   "metadata": {},
   "source": [
    "## 5. Сравнение с \"Оракулом\"\n",
    "\n",
    "Так как мы знаем генеративную модель, можно вычислить истинные ожидания V(A) и V(B) и проверить точность OPE."
   ]
  },
  {
   "cell_type": "code",
   "execution_count": 6,
   "id": "5ff74380",
   "metadata": {
    "execution": {
     "iopub.execute_input": "2025-09-17T13:37:43.288079Z",
     "iopub.status.busy": "2025-09-17T13:37:43.287695Z",
     "iopub.status.idle": "2025-09-17T13:39:18.707857Z",
     "shell.execute_reply": "2025-09-17T13:39:18.706513Z"
    }
   },
   "outputs": [
    {
     "data": {
      "text/html": [
       "<div>\n",
       "<style scoped>\n",
       "    .dataframe tbody tr th:only-of-type {\n",
       "        vertical-align: middle;\n",
       "    }\n",
       "\n",
       "    .dataframe tbody tr th {\n",
       "        vertical-align: top;\n",
       "    }\n",
       "\n",
       "    .dataframe thead th {\n",
       "        text-align: right;\n",
       "    }\n",
       "</style>\n",
       "<table border=\"1\" class=\"dataframe\">\n",
       "  <thead>\n",
       "    <tr style=\"text-align: right;\">\n",
       "      <th></th>\n",
       "      <th>metric</th>\n",
       "      <th>V_A_true</th>\n",
       "      <th>V_B_true</th>\n",
       "      <th>Delta_true</th>\n",
       "      <th>DR_V_A</th>\n",
       "      <th>DR_V_B</th>\n",
       "      <th>DR_Delta</th>\n",
       "      <th>abs_error_V_B</th>\n",
       "      <th>abs_error_Delta</th>\n",
       "    </tr>\n",
       "  </thead>\n",
       "  <tbody>\n",
       "    <tr>\n",
       "      <th>0</th>\n",
       "      <td>accept</td>\n",
       "      <td>0.529685</td>\n",
       "      <td>0.502235</td>\n",
       "      <td>-0.027450</td>\n",
       "      <td>0.523310</td>\n",
       "      <td>0.508279</td>\n",
       "      <td>-0.015031</td>\n",
       "      <td>0.006044</td>\n",
       "      <td>0.012419</td>\n",
       "    </tr>\n",
       "    <tr>\n",
       "      <th>1</th>\n",
       "      <td>cltv</td>\n",
       "      <td>692.811043</td>\n",
       "      <td>681.855329</td>\n",
       "      <td>-10.955714</td>\n",
       "      <td>687.270311</td>\n",
       "      <td>676.135597</td>\n",
       "      <td>-11.134714</td>\n",
       "      <td>5.719733</td>\n",
       "      <td>0.179001</td>\n",
       "    </tr>\n",
       "  </tbody>\n",
       "</table>\n",
       "</div>"
      ],
      "text/plain": [
       "   metric    V_A_true    V_B_true  Delta_true      DR_V_A      DR_V_B  \\\n",
       "0  accept    0.529685    0.502235   -0.027450    0.523310    0.508279   \n",
       "1    cltv  692.811043  681.855329  -10.955714  687.270311  676.135597   \n",
       "\n",
       "    DR_Delta  abs_error_V_B  abs_error_Delta  \n",
       "0  -0.015031       0.006044         0.012419  \n",
       "1 -11.134714       5.719733         0.179001  "
      ]
     },
     "execution_count": 6,
     "metadata": {},
     "output_type": "execute_result"
    }
   ],
   "source": [
    "oracle_A_accept = env.oracle_value(policyA, users, metric='accept', n_mc=100)\n",
    "oracle_B_accept = env.oracle_value(policyB, users, metric='accept', n_mc=100)\n",
    "oracle_A_cltv = env.oracle_value(policyA, users, metric='cltv', n_mc=100)\n",
    "oracle_B_cltv = env.oracle_value(policyB, users, metric='cltv', n_mc=100)\n",
    "\n",
    "# DR estimates\n",
    "DR_V_A_accept = res_dr_A_accept\n",
    "DR_V_A_cltv = res_dr_A_cltv\n",
    "DR_V_B_accept = res_dr_accept\n",
    "DR_V_B_cltv = res_dr_cltv\n",
    "DR_Delta_accept = DR_V_B_accept - DR_V_A_accept\n",
    "DR_Delta_cltv = DR_V_B_cltv - DR_V_A_cltv\n",
    "\n",
    "oracle_df = pd.DataFrame({\n",
    "    'metric': ['accept', 'cltv'],\n",
    "    'V_A_true': [oracle_A_accept, oracle_A_cltv],\n",
    "    'V_B_true': [oracle_B_accept, oracle_B_cltv],\n",
    "    'Delta_true': [oracle_B_accept - oracle_A_accept, oracle_B_cltv - oracle_A_cltv],\n",
    "    'DR_V_A': [DR_V_A_accept, DR_V_A_cltv],\n",
    "    'DR_V_B': [DR_V_B_accept, DR_V_B_cltv],\n",
    "    'DR_Delta': [DR_Delta_accept, DR_Delta_cltv],\n",
    "    'abs_error_V_B': [abs(DR_V_B_accept - oracle_B_accept), abs(DR_V_B_cltv - oracle_B_cltv)],\n",
    "    'abs_error_Delta': [abs(DR_Delta_accept - (oracle_B_accept - oracle_A_accept)),\n",
    "                        abs(DR_Delta_cltv - (oracle_B_cltv - oracle_A_cltv))]\n",
    "})\n",
    "oracle_df"
   ]
  },
  {
   "cell_type": "markdown",
   "id": "3cf15afa",
   "metadata": {},
   "source": [
    "### Таблица сравнения\n",
    "Столбцы:\n",
    "- **V_A_true**, **V_B_true** — истинные средние значения метрики под политиками A и B.\n",
    "- **Delta_true** — истинная разница V_B_true - V_A_true (значения получены по 1000 MC-симуляциям).\n",
    "- **DR_V_A**, **DR_V_B** — оценки V(A) и V(B) методом Doubly Robust.\n",
    "- **DR_Delta** — оценка разницы V(B)-V(A) как DR_V_B - DR_V_A.\n",
    "- **abs_error_V_B**, **abs_error_Delta** — абсолютные ошибки оценок относительно истины."
   ]
  },
  {
   "cell_type": "markdown",
   "id": "5729c803",
   "metadata": {},
   "source": [
    "## 6. Вывод\n",
    "\n",
    "- В синтетике политика **B** уступает A: DR-оценка разницы совпадает по знаку с истинной дельтой.\n",
    "- По отклику и CLTV абсолютная ошибка DR-аппроксимации невелика (см. таблицу выше).\n",
    "- Это демонстрирует, что при корректных пропенсити и перекрытии действий метод DR может заменить online A/B для предварительных оценок.\n"
   ]
  },
  {
   "cell_type": "markdown",
   "id": "0b2d8c55",
   "metadata": {},
   "source": [
    "## Применение метода на реальных данных\n",
    "\n",
    "Ниже показаны шаги для оценки новой политики на логах из реального продукта. Сначала проверяем, что логи содержат обязательные колонки, затем обучаем модели и считаем значения."
   ]
  },
  {
   "cell_type": "code",
   "execution_count": 7,
   "id": "da3b9722",
   "metadata": {
    "execution": {
     "iopub.execute_input": "2025-09-17T13:39:18.712323Z",
     "iopub.status.busy": "2025-09-17T13:39:18.712021Z",
     "iopub.status.idle": "2025-09-17T13:39:18.767509Z",
     "shell.execute_reply": "2025-09-17T13:39:18.766522Z"
