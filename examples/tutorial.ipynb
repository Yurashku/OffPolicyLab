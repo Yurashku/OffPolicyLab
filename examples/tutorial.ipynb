     "iopub.execute_input": "2025-09-17T13:12:33.832268Z",
     "iopub.status.busy": "2025-09-17T13:12:33.831853Z",
     "iopub.status.idle": "2025-09-17T13:12:35.952829Z",
     "shell.execute_reply": "2025-09-17T13:12:35.951598Z"
     "iopub.execute_input": "2025-09-17T13:12:35.956985Z",
     "iopub.status.busy": "2025-09-17T13:12:35.956530Z",
     "iopub.status.idle": "2025-09-17T13:12:36.265961Z",
     "shell.execute_reply": "2025-09-17T13:12:36.264579Z"
     "iopub.execute_input": "2025-09-17T13:12:36.292480Z",
     "iopub.status.busy": "2025-09-17T13:12:36.292148Z",
     "iopub.status.idle": "2025-09-17T13:12:36.308293Z",
     "shell.execute_reply": "2025-09-17T13:12:36.307059Z"
     "iopub.execute_input": "2025-09-17T13:12:36.311800Z",
     "iopub.status.busy": "2025-09-17T13:12:36.311484Z",
     "iopub.status.idle": "2025-09-17T13:12:36.696475Z",
     "shell.execute_reply": "2025-09-17T13:12:36.695232Z"
    {
     "name": "stdout",
     "output_type": "stream",
     "text": [
      "[Replay] accept=0.5280, cltv=720.6107\n",
      "[IPS] ESS_accept=458.3, clip=0.60%; ESS_cltv=458.3, clip=0.60%\n",
      "[SNIPS] ESS_accept=458.3, clip=0.60%; ESS_cltv=458.3, clip=0.60%\n",
      "[DM] accept=0.4928, cltv=681.6563\n",
      "[SNDR] ESS_accept=458.3, clip=0.60%; ESS_cltv=458.3, clip=0.60%\n"
     ]
    },
     "iopub.execute_input": "2025-09-17T13:12:36.699479Z",
     "iopub.status.busy": "2025-09-17T13:12:36.699087Z",
     "iopub.status.idle": "2025-09-17T13:13:22.832286Z",
     "shell.execute_reply": "2025-09-17T13:13:22.828276Z"
      "[DR] ESS = 835.1 из 2000\n"
      "[DR] Обрезано весов: 0.50%\n"
      "[DR] Оценённое значение метрики: 687.2703\n"
      "[DR] ESS = 458.3 из 2000\n"
      "[DR] Обрезано весов: 0.60%\n"
      "[DR] Оценённое значение метрики: 676.1356\n"
     "iopub.execute_input": "2025-09-17T13:13:22.838482Z",
     "iopub.status.busy": "2025-09-17T13:13:22.838078Z",
     "iopub.status.idle": "2025-09-17T13:14:54.331489Z",
     "shell.execute_reply": "2025-09-17T13:14:54.330598Z"
     "iopub.execute_input": "2025-09-17T13:14:54.335145Z",
     "iopub.status.busy": "2025-09-17T13:14:54.334793Z",
     "iopub.status.idle": "2025-09-17T13:14:54.404376Z",
     "shell.execute_reply": "2025-09-17T13:14:54.400610Z"
