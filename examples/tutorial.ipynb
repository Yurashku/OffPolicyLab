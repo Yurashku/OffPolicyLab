{
 "cells": [
  {
   "cell_type": "markdown",
   "id": "b5bb919e",
   "metadata": {},
   "source": [
    "# Бутстрэп без лишних логов\n",
    "Пример оценивания среднего значения."
   ]
  },
  {
   "cell_type": "code",
   "execution_count": 1,
   "id": "3ed86886",
   "metadata": {
    "execution": {
     "iopub.execute_input": "2025-09-15T15:48:24.527193Z",
     "iopub.status.busy": "2025-09-15T15:48:24.526756Z",
     "iopub.status.idle": "2025-09-15T15:48:25.373375Z",
     "shell.execute_reply": "2025-09-15T15:48:25.371988Z"
    }
   },
   "outputs": [
    {
     "name": "stdout",
     "output_type": "stream",
     "text": [
      "0.37 0.30306451612903224 0.4595161290322579\n"
     ]
    }
   ],
   "source": [
    "import numpy as np\n",
    "import pandas as pd\n",
    "from policyscope.bootstrap import cluster_bootstrap_ci\n",
    "\n",
    "rng = np.random.default_rng(0)\n",
    "df = pd.DataFrame({\n",
    "    'user_id': np.arange(100),\n",
    "    'accept': rng.binomial(1, 0.3, size=100),\n",
    "})\n",
    "\n",
    "def estimator(sub):\n",
    "    return sub['accept'].mean()\n",
    "\n",
    "theta, low, high = cluster_bootstrap_ci(df, estimator, cluster_col='user_id', n_boot=100, alpha=0.05, rng_seed=1)\n",
    "print(theta, low, high)\n"
   ]
  }
 ],
 "metadata": {
  "language_info": {
   "codemirror_mode": {
    "name": "ipython",
    "version": 3
   },
   "file_extension": ".py",
   "mimetype": "text/x-python",
   "name": "python",
   "nbconvert_exporter": "python",
   "pygments_lexer": "ipython3",
   "version": "3.12.10"
  }
 },
 "nbformat": 4,
 "nbformat_minor": 5
}
