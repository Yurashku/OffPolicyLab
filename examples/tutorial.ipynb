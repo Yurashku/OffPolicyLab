     "iopub.execute_input": "2025-09-17T12:45:57.670553Z",
     "iopub.status.busy": "2025-09-17T12:45:57.670244Z",
     "iopub.status.idle": "2025-09-17T12:45:59.122319Z",
     "shell.execute_reply": "2025-09-17T12:45:59.121531Z"
     "iopub.execute_input": "2025-09-17T12:45:59.125190Z",
     "iopub.status.busy": "2025-09-17T12:45:59.124766Z",
     "iopub.status.idle": "2025-09-17T12:45:59.344466Z",
     "shell.execute_reply": "2025-09-17T12:45:59.343612Z"
     "iopub.execute_input": "2025-09-17T12:45:59.347445Z",
     "iopub.status.busy": "2025-09-17T12:45:59.347156Z",
     "iopub.status.idle": "2025-09-17T12:45:59.358684Z",
     "shell.execute_reply": "2025-09-17T12:45:59.357959Z"
     "iopub.execute_input": "2025-09-17T12:45:59.361143Z",
     "iopub.status.busy": "2025-09-17T12:45:59.360880Z",
     "iopub.status.idle": "2025-09-17T12:45:59.596701Z",
     "shell.execute_reply": "2025-09-17T12:45:59.595971Z"
    {
     "name": "stdout",
     "output_type": "stream",
     "text": [
      "[Replay] accept=0.5280, cltv=720.6107\n",
      "[IPS] ESS_accept=458.3, clip=0.60%; ESS_cltv=458.3, clip=0.60%\n",
      "[SNIPS] ESS_accept=458.3, clip=0.60%; ESS_cltv=458.3, clip=0.60%\n",
      "[DM] accept=0.4928, cltv=681.6563\n",
      "[SNDR] ESS_accept=458.3, clip=0.60%; ESS_cltv=458.3, clip=0.60%\n",
      "[Switch-DR] ESS_accept=823.3, no_ips=0.60%; ESS_cltv=823.3, no_ips=0.60%\n"
     ]
    },
    "Используем кластерный бутстрэп по пользователям, чтобы получить 95% доверительные интервалы для разности ценностей (ATE).\n",
    "Во время бутстрэпа библиотека автоматически подавляет информационные и предупреждающие сообщения логгера, поэтому вывод остаётся компактным даже при сотнях повторов.\n"
     "iopub.execute_input": "2025-09-17T12:45:59.599215Z",
     "iopub.status.busy": "2025-09-17T12:45:59.599006Z",
     "iopub.status.idle": "2025-09-17T12:46:31.620078Z",
     "shell.execute_reply": "2025-09-17T12:46:31.619675Z"
      "[DR] ESS = 835.1 из 2000\n"
      "[DR] Обрезано весов: 0.50%\n"
      "[DR] Оценённое значение метрики: 687.2703\n"
      "[DR] ESS = 458.3 из 2000\n"
      "[DR] Обрезано весов: 0.60%\n"
      "[DR] Оценённое значение метрики: 676.1356\n"
     "iopub.execute_input": "2025-09-17T12:46:31.622105Z",
     "iopub.status.busy": "2025-09-17T12:46:31.621923Z",
     "iopub.status.idle": "2025-09-17T12:47:37.438166Z",
     "shell.execute_reply": "2025-09-17T12:47:37.437712Z"
     "iopub.execute_input": "2025-09-17T12:47:37.441038Z",
     "iopub.status.busy": "2025-09-17T12:47:37.440633Z",
     "iopub.status.idle": "2025-09-17T12:47:37.490914Z",
     "shell.execute_reply": "2025-09-17T12:47:37.485415Z"
