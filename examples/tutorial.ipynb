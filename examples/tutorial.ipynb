{
 "cells": [
  {
   "cell_type": "markdown",
   "id": "4b41ab78",
   "metadata": {},
   "source": [
    "\n",
    "# Быстрый старт с Policyscope\n",
    "\n",
    "Этот ноутбук показывает на простом примере, как оценить новую рекомендательную политику без запуска дорогого онлайн‑эксперимента. Мы сгенерируем синтетических пользователей, сравним две политики и применим методы Replay, IPS, SNIPS и Doubly Robust.\n"
   ]
  },
  {
   "cell_type": "markdown",
   "id": "17e897b7",
   "metadata": {},
   "source": [
    "\n",
    "## Алгоритмы\n",
    "\n",
    "* **Replay** — усредняет отклики только по тем случаям, когда новая политика сделала бы то же действие, что и логирующая. Дисперсия может быть высокой.\n",
    "* **IPS** — взвешивает каждый лог по отношению вероятностей в новой и старой политике. Даёт несмещённую оценку, но чувствителен к большим весам.\n",
    "* **SNIPS** — нормализует веса IPS и часто даёт более стабильную оценку.\n",
    "* **Doubly Robust** — объединяет модель отклика с IPS. Остаётся несмещённым, если верны либо пропенсити, либо модель отклика.\n"
   ]
  },
  {
   "cell_type": "markdown",
   "id": "31465308",
   "metadata": {},
   "source": [
    "\n",
    "## 1. Генерация данных\n",
    "\n",
    "Создадим пользователей и посмотрим на их признаки. Суффикс `_z` означает нормализованное значение (z‑score).\n"
   ]
  },
  {
   "cell_type": "code",
   "execution_count": 1,
   "id": "05c62ac5",
   "metadata": {
    "execution": {
     "iopub.execute_input": "2025-08-18T15:46:19.763328Z",
     "iopub.status.busy": "2025-08-18T15:46:19.762822Z",
     "iopub.status.idle": "2025-08-18T15:46:20.740686Z",
     "shell.execute_reply": "2025-08-18T15:46:20.738833Z"
    }
   },
   "outputs": [
    {
     "data": {
      "text/html": [
       "<div>\n",
       "<style scoped>\n",
       "    .dataframe tbody tr th:only-of-type {\n",
       "        vertical-align: middle;\n",
       "    }\n",
       "\n",
       "    .dataframe tbody tr th {\n",
       "        vertical-align: top;\n",
       "    }\n",
       "\n",
       "    .dataframe thead th {\n",
       "        text-align: right;\n",
       "    }\n",
       "</style>\n",
       "<table border=\"1\" class=\"dataframe\">\n",
       "  <thead>\n",
       "    <tr style=\"text-align: right;\">\n",
       "      <th></th>\n",
       "      <th>user_id</th>\n",
       "      <th>loyal</th>\n",
       "      <th>age</th>\n",
       "      <th>risk</th>\n",
       "      <th>income</th>\n",
       "      <th>region</th>\n",
       "      <th>age_z</th>\n",
       "      <th>risk_z</th>\n",
       "      <th>income_z</th>\n",
       "    </tr>\n",
       "  </thead>\n",
       "  <tbody>\n",
       "    <tr>\n",
       "      <th>0</th>\n",
       "      <td>0</td>\n",
       "      <td>0</td>\n",
       "      <td>53</td>\n",
       "      <td>0.528127</td>\n",
       "      <td>23405.298109</td>\n",
       "      <td>0</td>\n",
       "      <td>1.083333</td>\n",
       "      <td>0.112508</td>\n",
       "      <td>-0.888211</td>\n",
       "    </tr>\n",
       "    <tr>\n",
       "      <th>1</th>\n",
       "      <td>1</td>\n",
       "      <td>1</td>\n",
       "      <td>64</td>\n",
       "      <td>0.412230</td>\n",
       "      <td>37336.939988</td>\n",
       "      <td>4</td>\n",
       "      <td>2.000000</td>\n",
       "      <td>-0.351079</td>\n",
       "      <td>0.050984</td>\n",
       "    </tr>\n",
       "    <tr>\n",
       "      <th>2</th>\n",
       "      <td>2</td>\n",
       "      <td>1</td>\n",
       "      <td>43</td>\n",
       "      <td>0.217916</td>\n",
       "      <td>59992.063224</td>\n",
       "      <td>0</td>\n",
       "      <td>0.250000</td>\n",
       "      <td>-1.128335</td>\n",
       "      <td>1.004675</td>\n",
       "    </tr>\n",
       "    <tr>\n",
       "      <th>3</th>\n",
       "      <td>3</td>\n",
       "      <td>1</td>\n",
       "      <td>53</td>\n",
       "      <td>0.948469</td>\n",
       "      <td>32836.001473</td>\n",
       "      <td>4</td>\n",
       "      <td>1.083333</td>\n",
       "      <td>1.793876</td>\n",
       "      <td>-0.207349</td>\n",
       "    </tr>\n",
       "    <tr>\n",
       "      <th>4</th>\n",
       "      <td>4</td>\n",
       "      <td>0</td>\n",
       "      <td>56</td>\n",
       "      <td>0.576872</td>\n",
       "      <td>41900.225286</td>\n",
       "      <td>0</td>\n",
       "      <td>1.333333</td>\n",
       "      <td>0.307490</td>\n",
       "      <td>0.282872</td>\n",
       "    </tr>\n",
       "  </tbody>\n",
       "</table>\n",
       "</div>"
      ],
      "text/plain": [
       "   user_id  loyal  age      risk        income  region     age_z    risk_z  \\\n",
       "0        0      0   53  0.528127  23405.298109       0  1.083333  0.112508   \n",
       "1        1      1   64  0.412230  37336.939988       4  2.000000 -0.351079   \n",
       "2        2      1   43  0.217916  59992.063224       0  0.250000 -1.128335   \n",
       "3        3      1   53  0.948469  32836.001473       4  1.083333  1.793876   \n",
       "4        4      0   56  0.576872  41900.225286       0  1.333333  0.307490   \n",
       "\n",
       "   income_z  \n",
       "0 -0.888211  \n",
       "1  0.050984  \n",
       "2  1.004675  \n",
       "3 -0.207349  \n",
       "4  0.282872  "
      ]
     },
     "execution_count": 1,
     "metadata": {},
     "output_type": "execute_result"
    }
   ],
   "source": [
    "\n",
    "from policyscope.synthetic import SynthConfig, SyntheticRecommenderEnv\n",
    "\n",
    "cfg = SynthConfig(n_users=5000, horizon_days=30, seed=0)\n",
    "env = SyntheticRecommenderEnv(cfg)\n",
    "X = env.sample_users()\n",
    "X.head()\n"
   ]
  },
  {
   "cell_type": "markdown",
   "id": "d3242093",
   "metadata": {},
   "source": [
    "\n",
    "## 2. Определяем политики\n",
    "\n",
    "Политика **A** генерирует логи и делает случайный шаг в 10% случаев (epsilon‑greedy). Политика **B** отдаёт предпочтение более прибыльным действиям по правилу softmax.\n"
   ]
  },
  {
   "cell_type": "code",
   "execution_count": 2,
   "id": "98bd8491",
   "metadata": {
    "execution": {
     "iopub.execute_input": "2025-08-18T15:46:20.746776Z",
     "iopub.status.busy": "2025-08-18T15:46:20.745545Z",
     "iopub.status.idle": "2025-08-18T15:46:20.760597Z",
     "shell.execute_reply": "2025-08-18T15:46:20.758718Z"
    }
   },
   "outputs": [],
   "source": [
    "\n",
    "from policyscope.policies import make_policy\n",
    "\n",
    "policyA = make_policy(\"epsilon_greedy\", epsilon=0.1)\n",
    "policyB = make_policy(\"softmax\", tau=0.7)\n"
   ]
  },
  {
   "cell_type": "markdown",
   "id": "ca692694",
   "metadata": {},
   "source": [
    "\n",
    "## 3. Логи политики A\n",
    "\n",
    "Симулируем поведение политики A и посмотрим на несколько первых строк.\n"
   ]
  },
  {
   "cell_type": "code",
   "execution_count": 3,
   "id": "9f223ad0",
   "metadata": {
    "execution": {
     "iopub.execute_input": "2025-08-18T15:46:20.766477Z",
     "iopub.status.busy": "2025-08-18T15:46:20.765752Z",
     "iopub.status.idle": "2025-08-18T15:46:21.751875Z",
     "shell.execute_reply": "2025-08-18T15:46:21.749637Z"
    }
   },
   "outputs": [
    {
     "data": {
      "text/html": [
       "<div>\n",
       "<style scoped>\n",
       "    .dataframe tbody tr th:only-of-type {\n",
       "        vertical-align: middle;\n",
       "    }\n",
       "\n",
       "    .dataframe tbody tr th {\n",
       "        vertical-align: top;\n",
       "    }\n",
       "\n",
       "    .dataframe thead th {\n",
       "        text-align: right;\n",
       "    }\n",
       "</style>\n",
       "<table border=\"1\" class=\"dataframe\">\n",
       "  <thead>\n",
       "    <tr style=\"text-align: right;\">\n",
       "      <th></th>\n",
       "      <th>user_id</th>\n",
       "      <th>loyal</th>\n",
       "      <th>age</th>\n",
       "      <th>risk</th>\n",
       "      <th>income</th>\n",
       "      <th>region</th>\n",
       "      <th>age_z</th>\n",
       "      <th>risk_z</th>\n",
       "      <th>income_z</th>\n",
       "      <th>a_A</th>\n",
       "      <th>propensity_A</th>\n",
       "      <th>accept</th>\n",
       "      <th>cltv</th>\n",
       "    </tr>\n",
       "  </thead>\n",
       "  <tbody>\n",
       "    <tr>\n",
       "      <th>0</th>\n",
       "      <td>0</td>\n",
       "      <td>0</td>\n",
       "      <td>53</td>\n",
       "      <td>0.528127</td>\n",
       "      <td>23405.298109</td>\n",
       "      <td>0</td>\n",
       "      <td>1.083333</td>\n",
       "      <td>0.112508</td>\n",
       "      <td>-0.888211</td>\n",
       "      <td>1</td>\n",
       "      <td>0.925</td>\n",
       "      <td>0</td>\n",
       "      <td>168.199352</td>\n",
       "    </tr>\n",
       "    <tr>\n",
       "      <th>1</th>\n",
       "      <td>1</td>\n",
       "      <td>1</td>\n",
       "      <td>64</td>\n",
       "      <td>0.412230</td>\n",
       "      <td>37336.939988</td>\n",
       "      <td>4</td>\n",
       "      <td>2.000000</td>\n",
       "      <td>-0.351079</td>\n",
       "      <td>0.050984</td>\n",
       "      <td>0</td>\n",
       "      <td>0.925</td>\n",
       "      <td>1</td>\n",
       "      <td>1225.575479</td>\n",
       "    </tr>\n",
       "    <tr>\n",
       "      <th>2</th>\n",
       "      <td>2</td>\n",
       "      <td>1</td>\n",
       "      <td>43</td>\n",
       "      <td>0.217916</td>\n",
       "      <td>59992.063224</td>\n",
       "      <td>0</td>\n",
       "      <td>0.250000</td>\n",
       "      <td>-1.128335</td>\n",
       "      <td>1.004675</td>\n",
       "      <td>3</td>\n",
       "      <td>0.925</td>\n",
       "      <td>1</td>\n",
       "      <td>948.090268</td>\n",
       "    </tr>\n",
       "    <tr>\n",
       "      <th>3</th>\n",
       "      <td>3</td>\n",
       "      <td>1</td>\n",
       "      <td>53</td>\n",
       "      <td>0.948469</td>\n",
       "      <td>32836.001473</td>\n",
       "      <td>4</td>\n",
       "      <td>1.083333</td>\n",
       "      <td>1.793876</td>\n",
       "      <td>-0.207349</td>\n",
       "      <td>0</td>\n",
       "      <td>0.925</td>\n",
       "      <td>1</td>\n",
       "      <td>960.910888</td>\n",
       "    </tr>\n",
       "    <tr>\n",
       "      <th>4</th>\n",
       "      <td>4</td>\n",
       "      <td>0</td>\n",
       "      <td>56</td>\n",
       "      <td>0.576872</td>\n",
       "      <td>41900.225286</td>\n",
       "      <td>0</td>\n",
       "      <td>1.333333</td>\n",
       "      <td>0.307490</td>\n",
       "      <td>0.282872</td>\n",
       "      <td>2</td>\n",
       "      <td>0.925</td>\n",
       "      <td>1</td>\n",
       "      <td>510.971281</td>\n",
       "    </tr>\n",
       "  </tbody>\n",
       "</table>\n",
       "</div>"
      ],
      "text/plain": [
       "   user_id  loyal  age      risk        income  region     age_z    risk_z  \\\n",
       "0        0      0   53  0.528127  23405.298109       0  1.083333  0.112508   \n",
       "1        1      1   64  0.412230  37336.939988       4  2.000000 -0.351079   \n",
       "2        2      1   43  0.217916  59992.063224       0  0.250000 -1.128335   \n",
       "3        3      1   53  0.948469  32836.001473       4  1.083333  1.793876   \n",
       "4        4      0   56  0.576872  41900.225286       0  1.333333  0.307490   \n",
       "\n",
       "   income_z  a_A  propensity_A  accept         cltv  \n",
       "0 -0.888211    1         0.925       0   168.199352  \n",
       "1  0.050984    0         0.925       1  1225.575479  \n",
       "2  1.004675    3         0.925       1   948.090268  \n",
       "3 -0.207349    0         0.925       1   960.910888  \n",
       "4  0.282872    2         0.925       1   510.971281  "
      ]
     },
     "execution_count": 3,
     "metadata": {},
     "output_type": "execute_result"
    }
   ],
   "source": [
    "\n",
    "logsA = env.simulate_logs_A(policyA, X)\n",
    "logsA.head()\n"
   ]
  },
  {
   "cell_type": "markdown",
   "id": "1c8766bc",
   "metadata": {},
   "source": [
    "\n",
    "Столбец `a_A` — показанное действие, `propensity_A` — вероятность его показа. `accept` и `cltv` — отклик и ценность пользователя.\n"
   ]
  },
  {
   "cell_type": "markdown",
   "id": "78681ed9",
   "metadata": {},
   "source": [
    "\n",
    "## 4. Истинные значения метрики\n",
    "\n",
    "Посчитаем истинные вероятности отклика для обеих политик, чтобы сравнить их с оценками.\n"
   ]
  },
  {
   "cell_type": "code",
   "execution_count": 4,
   "id": "962a2f5d",
   "metadata": {
    "execution": {
     "iopub.execute_input": "2025-08-18T15:46:21.756985Z",
     "iopub.status.busy": "2025-08-18T15:46:21.756474Z",
     "iopub.status.idle": "2025-08-18T15:46:22.915901Z",
     "shell.execute_reply": "2025-08-18T15:46:22.913883Z"
    }
   },
   "outputs": [
    {
     "name": "stdout",
     "output_type": "stream",
     "text": [
      "Истинное V(A): 0.463\n",
      "Истинное V(B): 0.477\n"
     ]
    }
   ],
   "source": [
    "\n",
    "V_true_A = env.oracle_value(policyA, X, metric=\"accept\")\n",
    "V_true_B = env.oracle_value(policyB, X, metric=\"accept\")\n",
    "print(f\"Истинное V(A): {V_true_A:.3f}\")\n",
    "print(f\"Истинное V(B): {V_true_B:.3f}\")\n"
   ]
  },
  {
   "cell_type": "markdown",
   "id": "59491f01",
   "metadata": {},
   "source": [
    "\n",
    "## 5. Оценка новой политики по логам A\n",
    "\n",
    "Сначала вычислим значение политики A на собственных логах, затем сравним с оценками политики B разными методами.\n"
   ]
  },
  {
   "cell_type": "code",
   "execution_count": 5,
   "id": "edfbe2f9",
   "metadata": {
    "execution": {
     "iopub.execute_input": "2025-08-18T15:46:22.920837Z",
     "iopub.status.busy": "2025-08-18T15:46:22.920418Z",
     "iopub.status.idle": "2025-08-18T15:46:25.349561Z",
     "shell.execute_reply": "2025-08-18T15:46:25.347925Z"
    }
   },
   "outputs": [
    {
     "name": "stdout",
     "output_type": "stream",
     "text": [
      "On-policy V(A): 0.477\n",
      "IPS V(B): 0.469\n",
      "SNIPS V(B): 0.474\n",
      "DR V(B): 0.475\n"
     ]
    }
   ],
   "source": [
    "\n",
    "from policyscope.estimators import (\n",
    "    value_on_policy,\n",
    "    prepare_piB_taken,\n",
    "    ips_value,\n",
    "    snips_value,\n",
    "    dr_value,\n",
    "    train_mu_hat,\n",
    ")\n",
    "\n",
    "piB_taken = prepare_piB_taken(logsA, policyB)\n",
    "V_A = value_on_policy(logsA, target=\"accept\")\n",
    "V_B_ips, _, _ = ips_value(logsA, piB_taken, target=\"accept\")\n",
    "V_B_snips, _, _ = snips_value(logsA, piB_taken, target=\"accept\")\n",
    "mu_hat = train_mu_hat(logsA, target=\"accept\")\n",
    "V_B_dr, _, _ = dr_value(logsA, policyB, mu_hat, target=\"accept\")\n",
    "\n",
    "print(f\"On-policy V(A): {V_A:.3f}\")\n",
    "print(f\"IPS V(B): {V_B_ips:.3f}\")\n",
    "print(f\"SNIPS V(B): {V_B_snips:.3f}\")\n",
    "print(f\"DR V(B): {V_B_dr:.3f}\")\n"
   ]
  },
  {
   "cell_type": "markdown",
   "id": "21a6f7aa",
   "metadata": {},
   "source": [
    "\n",
    "## Итоги\n",
    "\n",
    "В этом примере оценки IPS, SNIPS и DR близки к истинному значению \\(V(B)\\). На практике это позволяет приблизительно понять эффект новой политики, не проводя A/B‑тест.\n"
   ]
  },
  {
   "cell_type": "markdown",
   "id": "50221e93",
   "metadata": {},
   "source": [
    "\n",
    "## Ссылки\n",
    "\n",
    "- [Counterfactual Evaluation for Recommendation Systems](https://eugeneyan.com/writing/offline-recsys/)\n",
    "- Farajtabar et al., *More Robust Doubly Robust Off-policy Evaluation* (arXiv:2205.13421)\n"
   ]
  }
 ],
 "metadata": {
  "language_info": {
   "codemirror_mode": {
    "name": "ipython",
    "version": 3
   },
   "file_extension": ".py",
   "mimetype": "text/x-python",
   "name": "python",
   "nbconvert_exporter": "python",
   "pygments_lexer": "ipython3",
   "version": "3.12.10"
  }
 },
 "nbformat": 4,
 "nbformat_minor": 5
}
