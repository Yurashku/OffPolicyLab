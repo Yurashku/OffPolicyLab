{
 "cells": [
  {
   "cell_type": "markdown",
   "metadata": {},
   "source": [
    "# Сравнение OPE (DR) с оракулом\n",
    "Загружаем результаты синтетического эксперимента и сравниваем оценку Doubly Robust с истинными значениями."
   ]
  },
  {
   "cell_type": "code",
   "metadata": {},
   "execution_count": null,
   "outputs": [],
   "source": [
    "import json\n",
    "import pandas as pd\n",
    "import matplotlib.pyplot as plt\n\n",
    "with open('artifacts/summary.json') as f:\n",
    "    summary = json.load(f)\n\n",
    "df = pd.DataFrame({\n",
    "    'metric': ['accept', 'cltv'],\n",
    "    'DR': [summary['accept']['dr_B'], summary['cltv']['dr_B']],\n",
    "    'oracle': [summary['accept']['oracle_B'], summary['cltv']['oracle_B']]\n",
    "})\n",
    "df['abs_error'] = (df['DR'] - df['oracle']).abs()\n",
    "display(df)\n\n",
    "df.set_index('metric')[['DR', 'oracle']].plot(kind='bar')\n",
    "plt.ylabel('value')\n",
    "plt.title('DR OPE vs Oracle')\n",
    "plt.show()\n"
   ]
  },
  {
   "cell_type": "markdown",
   "metadata": {},
   "source": [
    "Абсолютные ошибки указывают, насколько приближение OPE отличается от истинного эффекта.\n",
    "При работе на синтетике полезно контролировать эту погрешность, чтобы убедиться в состоятельности метода."
   ]
  }
 ],
 "metadata": {
  "kernelspec": {
   "display_name": "Python 3",
   "language": "python",
   "name": "python3"
  },
  "language_info": {
   "name": "python",
   "version": "3.12"
  }
 },
 "nbformat": 4,
 "nbformat_minor": 5
}