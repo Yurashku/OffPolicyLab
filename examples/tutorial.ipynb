{
 "cells": [
  {
   "cell_type": "markdown",
   "id": "65076491",
   "metadata": {},
   "source": [
    "# Policyscope Tutorial"
   ]
  },
  {
   "cell_type": "markdown",
   "id": "08756f7c",
   "metadata": {},
   "source": [
    "Этот ноутбук демонстрирует основные приёмы офлайн-оценки политик в библиотеке **Policyscope**."
   ]
  },
  {
   "cell_type": "markdown",
   "id": "c667030a",
   "metadata": {},
   "source": [
    "## Краткая теория IPS/SNIPS/DM/DR\n",
    "\n",
    "**IPS (Inverse Propensity Scoring)** — пересчитывает значения метрики, масштабируя наблюдения на отношение вероятностей выбранного действия в новой и исходной политиках. Предполагает, что известны вероятности действий в логирующей политике и выполнено условие полноты (каждое действие имеет ненулевую вероятность).\n",
    "\n",
    "**SNIPS** — нормализованный вариант IPS: веса делятся на их сумму, что снижает дисперсию ценой небольшой смещённости. Предположения те же, что и у IPS.\n",
    "\n",
    "**DM (Direct Method)** — строит модель отклика \\(\\hat{\\mu}(x,a)\\) и усредняет её предсказания под новой политикой. Требует корректно специфицированной модели исхода и предпосылки невмешательства (отсутствие скрытых факторов).\n",
    "\n",
    "**DR (Doubly Robust)** — сочетает DM и IPS. Оценка остаётся несмещённой, если корректен хотя бы один из компонентов: модель отклика или пропенсити."
   ]
  },
  {
   "cell_type": "markdown",
   "id": "a62e4d3d",
   "metadata": {},
   "source": [
    "## Формат ожидаемых логов\n",
    "\n",
    "Логи политики A представлены в `pandas.DataFrame` и должны содержать следующие столбцы:\n",
    "\n",
    "| Колонка | Тип | Описание |\n",
    "| --- | --- | --- |\n",
    "| `user_id` | int64 | идентификатор пользователя |\n",
    "| `a_A` | int64 | действие, показанное политикой A |\n",
    "| `propensity_A` | float64 | вероятность выбора действия `a_A` |\n",
    "| `accept` | int64 (0/1) | отклик пользователя |\n",
    "| `cltv` | float64 | ценность при принятии |\n",
    "| дополнительные признаки (например, `loyal`, `age`, `risk`, `income`, `region`, `age_z`, `risk_z`, `income_z`) | соответствующие типы | используется моделью отклика |"
   ]
  },
  {
   "cell_type": "markdown",
   "id": "b8324af0",
   "metadata": {},
   "source": [
    "## Демонстрация вычисления ATE на синтетике\n",
    "Сгенерируем синтетические логи для политики A и оценим, насколько политика B могла бы повысить вероятность принятия предложения. Для проверки сравним оценки с истинным значением (оракулом)."
   ]
  },
  {
   "cell_type": "code",
   "execution_count": 1,
   "id": "3a5b5309",
   "metadata": {
    "execution": {
     "iopub.execute_input": "2025-08-18T17:18:35.178151Z",
     "iopub.status.busy": "2025-08-18T17:18:35.177931Z",
     "iopub.status.idle": "2025-08-18T17:18:37.023455Z",
     "shell.execute_reply": "2025-08-18T17:18:37.022384Z"
    }
   },
   "outputs": [],
   "source": [
    "import pandas as pd\n",
    "import matplotlib.pyplot as plt\n",
    "from policyscope.synthetic import SynthConfig, SyntheticRecommenderEnv\n",
    "from policyscope.policies import make_policy\n",
    "from policyscope.estimators import train_mu_hat, prepare_piB_taken, ips_value, snips_value, dm_value, dr_value, ate_from_values"
   ]
  },
  {
   "cell_type": "code",
   "execution_count": 2,
   "id": "6cc3f82b",
   "metadata": {
    "execution": {
     "iopub.execute_input": "2025-08-18T17:18:37.026750Z",
     "iopub.status.busy": "2025-08-18T17:18:37.026374Z",
     "iopub.status.idle": "2025-08-18T17:18:37.512289Z",
     "shell.execute_reply": "2025-08-18T17:18:37.511795Z"
    }
   },
   "outputs": [
    {
     "data": {
      "text/html": [
       "<div>\n",
       "<style scoped>\n",
       "    .dataframe tbody tr th:only-of-type {\n",
       "        vertical-align: middle;\n",
       "    }\n",
       "\n",
       "    .dataframe tbody tr th {\n",
       "        vertical-align: top;\n",
       "    }\n",
       "\n",
       "    .dataframe thead th {\n",
       "        text-align: right;\n",
       "    }\n",
       "</style>\n",
       "<table border=\"1\" class=\"dataframe\">\n",
       "  <thead>\n",
       "    <tr style=\"text-align: right;\">\n",
       "      <th></th>\n",
       "      <th>user_id</th>\n",
       "      <th>loyal</th>\n",
       "      <th>age</th>\n",
       "      <th>risk</th>\n",
       "      <th>income</th>\n",
       "      <th>region</th>\n",
       "      <th>age_z</th>\n",
       "      <th>risk_z</th>\n",
       "      <th>income_z</th>\n",
       "      <th>a_A</th>\n",
       "      <th>propensity_A</th>\n",
       "      <th>accept</th>\n",
       "      <th>cltv</th>\n",
       "    </tr>\n",
       "  </thead>\n",
       "  <tbody>\n",
       "    <tr>\n",
       "      <th>0</th>\n",
       "      <td>0</td>\n",
       "      <td>0</td>\n",
       "      <td>35</td>\n",
       "      <td>0.501541</td>\n",
       "      <td>14575.147294</td>\n",
       "      <td>1</td>\n",
       "      <td>-0.416667</td>\n",
       "      <td>0.006164</td>\n",
       "      <td>-1.842693</td>\n",
       "      <td>0</td>\n",
       "      <td>0.8875</td>\n",
       "      <td>1</td>\n",
       "      <td>236.325594</td>\n",
       "    </tr>\n",
       "    <tr>\n",
       "      <th>1</th>\n",
       "      <td>1</td>\n",
       "      <td>1</td>\n",
       "      <td>29</td>\n",
       "      <td>0.732395</td>\n",
       "      <td>26513.050864</td>\n",
       "      <td>2</td>\n",
       "      <td>-0.916667</td>\n",
       "      <td>0.929582</td>\n",
       "      <td>-0.646610</td>\n",
       "      <td>2</td>\n",
       "      <td>0.8875</td>\n",
       "      <td>1</td>\n",
       "      <td>826.611167</td>\n",
       "    </tr>\n",
       "    <tr>\n",
       "      <th>2</th>\n",
       "      <td>2</td>\n",
       "      <td>0</td>\n",
       "      <td>45</td>\n",
       "      <td>0.188225</td>\n",
       "      <td>22144.013597</td>\n",
       "      <td>0</td>\n",
       "      <td>0.416667</td>\n",
       "      <td>-1.247099</td>\n",
       "      <td>-1.006583</td>\n",
       "      <td>0</td>\n",
       "      <td>0.8875</td>\n",
       "      <td>0</td>\n",
       "      <td>189.567727</td>\n",
       "    </tr>\n",
       "    <tr>\n",
       "      <th>3</th>\n",
       "      <td>3</td>\n",
       "      <td>0</td>\n",
       "      <td>52</td>\n",
       "      <td>0.443791</td>\n",
       "      <td>38523.334086</td>\n",
       "      <td>4</td>\n",
       "      <td>1.000000</td>\n",
       "      <td>-0.224838</td>\n",
       "      <td>0.100297</td>\n",
       "      <td>0</td>\n",
       "      <td>0.8875</td>\n",
       "      <td>1</td>\n",
       "      <td>604.329549</td>\n",
       "    </tr>\n",
       "    <tr>\n",
       "      <th>4</th>\n",
       "      <td>4</td>\n",
       "      <td>1</td>\n",
       "      <td>31</td>\n",
       "      <td>0.532530</td>\n",
       "      <td>24493.569649</td>\n",
       "      <td>3</td>\n",
       "      <td>-0.750000</td>\n",
       "      <td>0.130121</td>\n",
       "      <td>-0.804989</td>\n",
       "      <td>2</td>\n",
       "      <td>0.8875</td>\n",
       "      <td>0</td>\n",
       "      <td>623.350392</td>\n",
       "    </tr>\n",
       "  </tbody>\n",
       "</table>\n",
       "</div>"
      ],
      "text/plain": [
       "   user_id  loyal  age      risk        income  region     age_z    risk_z  \\\n",
       "0        0      0   35  0.501541  14575.147294       1 -0.416667  0.006164   \n",
       "1        1      1   29  0.732395  26513.050864       2 -0.916667  0.929582   \n",
       "2        2      0   45  0.188225  22144.013597       0  0.416667 -1.247099   \n",
       "3        3      0   52  0.443791  38523.334086       4  1.000000 -0.224838   \n",
       "4        4      1   31  0.532530  24493.569649       3 -0.750000  0.130121   \n",
       "\n",
       "   income_z  a_A  propensity_A  accept        cltv  \n",
       "0 -1.842693    0        0.8875       1  236.325594  \n",
       "1 -0.646610    2        0.8875       1  826.611167  \n",
       "2 -1.006583    0        0.8875       0  189.567727  \n",
       "3  0.100297    0        0.8875       1  604.329549  \n",
       "4 -0.804989    2        0.8875       0  623.350392  "
      ]
     },
     "execution_count": 2,
     "metadata": {},
     "output_type": "execute_result"
    }
   ],
   "source": [
    "cfg = SynthConfig(n_users=5000, seed=42)\n",
    "env = SyntheticRecommenderEnv(cfg)\n",
    "X = env.sample_users()\n",
    "\n",
    "policyA = make_policy(\"epsilon_greedy\", seed=42, epsilon=0.15)\n",
    "policyB = make_policy(\"softmax\", seed=42, tau=0.7)\n",
    "\n",
    "logs = env.simulate_logs_A(policyA, X)\n",
    "logs.head()"
   ]
  },
  {
   "cell_type": "code",
   "execution_count": 3,
   "id": "8ee76efb",
   "metadata": {
    "execution": {
     "iopub.execute_input": "2025-08-18T17:18:37.514692Z",
     "iopub.status.busy": "2025-08-18T17:18:37.514470Z",
     "iopub.status.idle": "2025-08-18T17:18:38.162183Z",
     "shell.execute_reply": "2025-08-18T17:18:38.161279Z"
    }
   },
   "outputs": [
    {
     "data": {
      "text/html": [
       "<div>\n",
       "<style scoped>\n",
       "    .dataframe tbody tr th:only-of-type {\n",
       "        vertical-align: middle;\n",
       "    }\n",
       "\n",
       "    .dataframe tbody tr th {\n",
       "        vertical-align: top;\n",
       "    }\n",
       "\n",
       "    .dataframe thead th {\n",
       "        text-align: right;\n",
       "    }\n",
       "</style>\n",
       "<table border=\"1\" class=\"dataframe\">\n",
       "  <thead>\n",
       "    <tr style=\"text-align: right;\">\n",
       "      <th></th>\n",
       "      <th>Estimator</th>\n",
       "      <th>V_B</th>\n",
       "      <th>ATE</th>\n",
       "    </tr>\n",
       "  </thead>\n",
       "  <tbody>\n",
       "    <tr>\n",
       "      <th>0</th>\n",
       "      <td>IPS</td>\n",
       "      <td>0.533687</td>\n",
       "      <td>-0.010913</td>\n",
       "    </tr>\n",
       "    <tr>\n",
       "      <th>1</th>\n",
       "      <td>SNIPS</td>\n",
       "      <td>0.541583</td>\n",
       "      <td>-0.003017</td>\n",
       "    </tr>\n",
       "    <tr>\n",
       "      <th>2</th>\n",
       "      <td>DM</td>\n",
       "      <td>0.544282</td>\n",
       "      <td>-0.000318</td>\n",
       "    </tr>\n",
       "    <tr>\n",
       "      <th>3</th>\n",
       "      <td>DR</td>\n",
       "      <td>0.541570</td>\n",
       "      <td>-0.003030</td>\n",
       "    </tr>\n",
       "    <tr>\n",
       "      <th>4</th>\n",
       "      <td>Oracle</td>\n",
       "      <td>0.532400</td>\n",
       "      <td>-0.008000</td>\n",
       "    </tr>\n",
       "  </tbody>\n",
       "</table>\n",
       "</div>"
      ],
      "text/plain": [
       "  Estimator       V_B       ATE\n",
       "0       IPS  0.533687 -0.010913\n",
       "1     SNIPS  0.541583 -0.003017\n",
       "2        DM  0.544282 -0.000318\n",
       "3        DR  0.541570 -0.003030\n",
       "4    Oracle  0.532400 -0.008000"
      ]
     },
     "execution_count": 3,
     "metadata": {},
     "output_type": "execute_result"
    }
   ],
   "source": [
    "mu = train_mu_hat(logs, target=\"accept\")\n",
    "piB_taken = prepare_piB_taken(logs, policyB)\n",
    "\n",
    "# on-policy value for A\n",
    "vA = logs[\"accept\"].mean()\n",
    "\n",
    "# estimates for B\n",
    "vB_ips, ess_ips, clip_ips = ips_value(logs, piB_taken, target=\"accept\")\n",
    "vB_snips, _, _ = snips_value(logs, piB_taken, target=\"accept\")\n",
    "vB_dm = dm_value(logs, policyB, mu, target=\"accept\")\n",
    "vB_dr, ess_dr, clip_dr = dr_value(logs, policyB, mu, target=\"accept\")\n",
    "\n",
    "# oracle values\n",
    "oracle_A = env.oracle_value(policyA, X, metric=\"accept\")\n",
    "oracle_B = env.oracle_value(policyB, X, metric=\"accept\")\n",
    "\n",
    "# ATEs\n",
    "ips_ate = ate_from_values(vB_ips, vA)\n",
    "snips_ate = ate_from_values(vB_snips, vA)\n",
    "dm_ate = ate_from_values(vB_dm, vA)\n",
    "dr_ate = ate_from_values(vB_dr, vA)\n",
    "oracle_ate = oracle_B - oracle_A\n",
    "\n",
    "results = pd.DataFrame({\n",
    "    'Estimator': ['IPS', 'SNIPS', 'DM', 'DR', 'Oracle'],\n",
    "    'V_B': [vB_ips, vB_snips, vB_dm, vB_dr, oracle_B],\n",
    "    'ATE': [ips_ate, snips_ate, dm_ate, dr_ate, oracle_ate]\n",
    "})\n",
    "results"
   ]
  },
  {
   "cell_type": "code",
   "execution_count": 4,
   "id": "1c0ec2d1",
   "metadata": {
    "execution": {
     "iopub.execute_input": "2025-08-18T17:18:38.164841Z",
     "iopub.status.busy": "2025-08-18T17:18:38.164569Z",
     "iopub.status.idle": "2025-08-18T17:18:38.300374Z",
     "shell.execute_reply": "2025-08-18T17:18:38.299699Z"
    }
   },
   "outputs": [
    {
     "data": {
      "image/png": "[encoded data removed]",
      "text/plain": [
       "<Figure size 600x400 with 1 Axes>"
      ]
     },
     "metadata": {},
     "output_type": "display_data"
    }
   ],
   "source": [
    "fig, ax = plt.subplots(figsize=(6,4))\n",
    "ax.bar(results['Estimator'], results['ATE'], color='skyblue')\n",
    "ax.axhline(oracle_ate, color='red', linestyle='--', label='Oracle')\n",
    "ax.set_ylabel('ATE (accept)')\n",
    "ax.set_title('Оценки ATE по методу')\n",
    "ax.legend()\n",
    "plt.tight_layout()\n",
    "plt.show()"
   ]
  }
 ],
 "metadata": {
  "kernelspec": {
   "display_name": "Python 3",
   "language": "python",
   "name": "python3"
  },
  "language_info": {
   "codemirror_mode": {
    "name": "ipython",
    "version": 3
   },
   "file_extension": ".py",
   "mimetype": "text/x-python",
   "name": "python",
   "nbconvert_exporter": "python",
   "pygments_lexer": "ipython3",
   "version": "3.12.10"
  }
 },
 "nbformat": 4,
 "nbformat_minor": 5
}
