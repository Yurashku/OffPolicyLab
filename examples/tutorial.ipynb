{
 "cells": [
  {
   "cell_type": "markdown",
   "id": "b4d1e0bd",
   "metadata": {},
   "source": [
    "## Tutorial: Off-policy evaluation на синтетических данных\n",
    "Этот ноутбук демонстрирует, как библиотека `policyscope` сравнивает две рекомендательные политики по логам политики A."
   ]
  },
  {
   "cell_type": "markdown",
   "id": "328a3a79",
   "metadata": {},
   "source": [
    "### Методы оценки\n",
    "- **Replay** — учитываем только случаи, где политика B совпадает с A.\n",
    "- **IPS** — взвешиваем отклики по отношению вероятностей действия. Требует точных пропенситей.\n",
    "- **SNIPS** — нормализует IPS и снижает дисперсию.\n",
    "- **Doubly Robust** — комбинирует модель отклика и IPS; достаточно корректности хотя бы одной из них."
   ]
  },
  {
   "cell_type": "code",
   "execution_count": 1,
   "id": "4d992a20",
   "metadata": {
    "execution": {
     "iopub.execute_input": "2025-08-18T17:39:45.273704Z",
     "iopub.status.busy": "2025-08-18T17:39:45.273483Z",
     "iopub.status.idle": "2025-08-18T17:39:46.563071Z",
     "shell.execute_reply": "2025-08-18T17:39:46.562244Z"
    }
   },
   "outputs": [],
   "source": [
    "from policyscope.synthetic import SynthConfig, SyntheticRecommenderEnv\n",
    "from policyscope.policies import make_policy\n",
    "from policyscope.estimators import train_mu_hat, prepare_piB_taken, replay_value, ips_value, snips_value, dr_value\n",
    "import pandas as pd"
   ]
  },
  {
   "cell_type": "code",
   "execution_count": 2,
   "id": "a4e0fe45",
   "metadata": {
    "execution": {
     "iopub.execute_input": "2025-08-18T17:39:46.566302Z",
     "iopub.status.busy": "2025-08-18T17:39:46.565973Z",
     "iopub.status.idle": "2025-08-18T17:39:46.784235Z",
     "shell.execute_reply": "2025-08-18T17:39:46.783474Z"
    }
   },
   "outputs": [
    {
     "data": {
      "text/html": [
       "<div>\n",
       "<style scoped>\n",
       "    .dataframe tbody tr th:only-of-type {\n",
       "        vertical-align: middle;\n",
       "    }\n",
       "\n",
       "    .dataframe tbody tr th {\n",
       "        vertical-align: top;\n",
       "    }\n",
       "\n",
       "    .dataframe thead th {\n",
       "        text-align: right;\n",
       "    }\n",
       "</style>\n",
       "<table border=\"1\" class=\"dataframe\">\n",
       "  <thead>\n",
       "    <tr style=\"text-align: right;\">\n",
       "      <th></th>\n",
       "      <th>user_id</th>\n",
       "      <th>loyal</th>\n",
       "      <th>age</th>\n",
       "      <th>risk</th>\n",
       "      <th>income</th>\n",
       "      <th>region</th>\n",
       "      <th>age_z</th>\n",
       "      <th>risk_z</th>\n",
       "      <th>income_z</th>\n",
       "      <th>a_A</th>\n",
       "      <th>propensity_A</th>\n",
       "      <th>accept</th>\n",
       "      <th>cltv</th>\n",
       "    </tr>\n",
       "  </thead>\n",
       "  <tbody>\n",
       "    <tr>\n",
       "      <th>0</th>\n",
       "      <td>0</td>\n",
       "      <td>0</td>\n",
       "      <td>39</td>\n",
       "      <td>0.164427</td>\n",
       "      <td>33847.243699</td>\n",
       "      <td>2</td>\n",
       "      <td>-0.083333</td>\n",
       "      <td>-1.342291</td>\n",
       "      <td>-0.151654</td>\n",
       "      <td>0</td>\n",
       "      <td>0.8875</td>\n",
       "      <td>1</td>\n",
       "      <td>534.149918</td>\n",
       "    </tr>\n",
       "    <tr>\n",
       "      <th>1</th>\n",
       "      <td>1</td>\n",
       "      <td>1</td>\n",
       "      <td>68</td>\n",
       "      <td>0.794970</td>\n",
       "      <td>28464.133287</td>\n",
       "      <td>1</td>\n",
       "      <td>2.333333</td>\n",
       "      <td>1.179882</td>\n",
       "      <td>-0.496750</td>\n",
       "      <td>1</td>\n",
       "      <td>0.8875</td>\n",
       "      <td>0</td>\n",
       "      <td>605.271806</td>\n",
       "    </tr>\n",
       "    <tr>\n",
       "      <th>2</th>\n",
       "      <td>2</td>\n",
       "      <td>1</td>\n",
       "      <td>51</td>\n",
       "      <td>0.173588</td>\n",
       "      <td>106405.425932</td>\n",
       "      <td>1</td>\n",
       "      <td>0.916667</td>\n",
       "      <td>-1.305647</td>\n",
       "      <td>2.130351</td>\n",
       "      <td>0</td>\n",
       "      <td>0.8875</td>\n",
       "      <td>1</td>\n",
       "      <td>1552.634426</td>\n",
       "    </tr>\n",
       "    <tr>\n",
       "      <th>3</th>\n",
       "      <td>3</td>\n",
       "      <td>1</td>\n",
       "      <td>21</td>\n",
       "      <td>0.460746</td>\n",
       "      <td>23807.909876</td>\n",
       "      <td>0</td>\n",
       "      <td>-1.583333</td>\n",
       "      <td>-0.157015</td>\n",
       "      <td>-0.852632</td>\n",
       "      <td>2</td>\n",
       "      <td>0.8875</td>\n",
       "      <td>1</td>\n",
       "      <td>751.644903</td>\n",
       "    </tr>\n",
       "    <tr>\n",
       "      <th>4</th>\n",
       "      <td>4</td>\n",
       "      <td>0</td>\n",
       "      <td>58</td>\n",
       "      <td>0.129342</td>\n",
       "      <td>22354.664095</td>\n",
       "      <td>2</td>\n",
       "      <td>1.500000</td>\n",
       "      <td>-1.482632</td>\n",
       "      <td>-0.978114</td>\n",
       "      <td>0</td>\n",
       "      <td>0.8875</td>\n",
       "      <td>1</td>\n",
       "      <td>470.883121</td>\n",
       "    </tr>\n",
       "  </tbody>\n",
       "</table>\n",
       "</div>"
      ],
      "text/plain": [
       "   user_id  loyal  age      risk         income  region     age_z    risk_z  \\\n",
       "0        0      0   39  0.164427   33847.243699       2 -0.083333 -1.342291   \n",
       "1        1      1   68  0.794970   28464.133287       1  2.333333  1.179882   \n",
       "2        2      1   51  0.173588  106405.425932       1  0.916667 -1.305647   \n",
       "3        3      1   21  0.460746   23807.909876       0 -1.583333 -0.157015   \n",
       "4        4      0   58  0.129342   22354.664095       2  1.500000 -1.482632   \n",
       "\n",
       "   income_z  a_A  propensity_A  accept         cltv  \n",
       "0 -0.151654    0        0.8875       1   534.149918  \n",
       "1 -0.496750    1        0.8875       0   605.271806  \n",
       "2  2.130351    0        0.8875       1  1552.634426  \n",
       "3 -0.852632    2        0.8875       1   751.644903  \n",
       "4 -0.978114    0        0.8875       1   470.883121  "
      ]
     },
     "execution_count": 2,
     "metadata": {},
     "output_type": "execute_result"
    }
   ],
   "source": [
    "cfg = SynthConfig(n_users=2000, seed=0)\n",
    "env = SyntheticRecommenderEnv(cfg)\n",
    "users = env.sample_users()\n",
    "policyA = make_policy('epsilon_greedy', seed=1, epsilon=0.15)\n",
    "policyB = make_policy('softmax', seed=2, tau=0.7)\n",
    "logsA = env.simulate_logs_A(policyA, users)\n",
    "logsA.head()"
   ]
  },
  {
   "cell_type": "code",
   "execution_count": 3,
   "id": "d1b20e74",
   "metadata": {
    "execution": {
     "iopub.execute_input": "2025-08-18T17:39:46.786828Z",
     "iopub.status.busy": "2025-08-18T17:39:46.786571Z",
     "iopub.status.idle": "2025-08-18T17:39:46.816594Z",
     "shell.execute_reply": "2025-08-18T17:39:46.815905Z"
    }
   },
   "outputs": [
    {
     "data": {
      "text/plain": [
       "{'replay': 0.5228571428571429,\n",
       " 'ips': 0.44177746015730146,\n",
       " 'snips': 0.4788211645086519,\n",
       " 'dr': 0.48146966174506906}"
      ]
     },
     "execution_count": 3,
     "metadata": {},
     "output_type": "execute_result"
    }
   ],
   "source": [
    "mu_accept = train_mu_hat(logsA, target='accept')\n",
    "piB_taken = prepare_piB_taken(logsA, policyB)\n",
    "V_replay = replay_value(logsA, policyB.action_argmax(users), target='accept')\n",
    "V_ips, ess_ips, clip_ips = ips_value(logsA, piB_taken, target='accept', weight_clip=20)\n",
    "V_snips, ess_snips, clip_snips = snips_value(logsA, piB_taken, target='accept', weight_clip=20)\n",
    "V_dr, ess_dr, clip_dr = dr_value(logsA, policyB, mu_accept, target='accept', weight_clip=20)\n",
    "{'replay': V_replay, 'ips': V_ips, 'snips': V_snips, 'dr': V_dr}"
   ]
  },
  {
   "cell_type": "code",
   "execution_count": 4,
   "id": "a83f4116",
   "metadata": {
    "execution": {
     "iopub.execute_input": "2025-08-18T17:39:46.820791Z",
     "iopub.status.busy": "2025-08-18T17:39:46.820594Z",
     "iopub.status.idle": "2025-08-18T17:39:47.060720Z",
     "shell.execute_reply": "2025-08-18T17:39:47.060001Z"
    }
   },
   "outputs": [
    {
     "data": {
      "text/plain": [
       "{'oracle_A': 0.5405, 'oracle_B': 0.5145, 'oracle_delta': -0.026000000000000023}"
      ]
     },
     "execution_count": 4,
     "metadata": {},
     "output_type": "execute_result"
    }
   ],
   "source": [
    "# сравним с истинным значением\n",
    "V_A_true = env.oracle_value(policyA, users, metric='accept')\n",
    "V_B_true = env.oracle_value(policyB, users, metric='accept')\n",
    "{'oracle_A': V_A_true, 'oracle_B': V_B_true, 'oracle_delta': V_B_true - V_A_true}"
   ]
  },
  {
   "cell_type": "code",
   "execution_count": 5,
   "id": "c9136d60",
   "metadata": {
    "execution": {
     "iopub.execute_input": "2025-08-18T17:39:47.063284Z",
     "iopub.status.busy": "2025-08-18T17:39:47.063052Z",
     "iopub.status.idle": "2025-08-18T17:39:47.067203Z",
     "shell.execute_reply": "2025-08-18T17:39:47.066467Z"
    }
   },
   "outputs": [
    {
     "name": "stdout",
     "output_type": "stream",
     "text": [
      "DR оценка: 0.48146966174506906\n",
      "Истинный эффект: -0.026000000000000023\n"
     ]
    }
   ],
   "source": [
    "print('DR оценка:', V_dr)\n",
    "print('Истинный эффект:', V_B_true - V_A_true)"
   ]
  }
 ],
 "metadata": {
  "language_info": {
   "codemirror_mode": {
    "name": "ipython",
    "version": 3
   },
   "file_extension": ".py",
   "mimetype": "text/x-python",
   "name": "python",
   "nbconvert_exporter": "python",
   "pygments_lexer": "ipython3",
   "version": "3.12.10"
  }
 },
 "nbformat": 4,
 "nbformat_minor": 5
}
